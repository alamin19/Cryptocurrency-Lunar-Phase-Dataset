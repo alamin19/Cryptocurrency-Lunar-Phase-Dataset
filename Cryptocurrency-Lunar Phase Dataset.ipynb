{
 "cells": [
  {
   "cell_type": "code",
   "execution_count": 109,
   "metadata": {
    "scrolled": true
   },
   "outputs": [
    {
     "name": "stderr",
     "output_type": "stream",
     "text": [
      "UsageError: Line magic function `%matplotib` not found.\n"
     ]
    }
   ],
   "source": [
    "import pandas as pd\n",
    "import matplotlib\n",
    "%matplotib inline\n",
    "%pylab inline\n"
   ]
  },
  {
   "cell_type": "markdown",
   "metadata": {},
   "source": [
    "# laoding dataset using pandas"
   ]
  },
  {
   "cell_type": "code",
   "execution_count": 110,
   "metadata": {
    "scrolled": true
   },
   "outputs": [
    {
     "name": "stderr",
     "output_type": "stream",
     "text": [
      "/Users/Amin/anaconda3/lib/python3.6/site-packages/IPython/core/interactiveshell.py:2785: DtypeWarning: Columns (14) have mixed types. Specify dtype option on import or set low_memory=False.\n",
      "  interactivity=interactivity, compiler=compiler, result=result)\n"
     ]
    }
   ],
   "source": [
    "df = pd.read_csv(\"/Users/Amin/Desktop/daily-crypto-markets-and-lunardata.csv\", sep=\",\")"
   ]
  },
  {
   "cell_type": "code",
   "execution_count": 111,
   "metadata": {},
   "outputs": [
    {
     "data": {
      "text/html": [
       "<div>\n",
       "<style scoped>\n",
       "    .dataframe tbody tr th:only-of-type {\n",
       "        vertical-align: middle;\n",
       "    }\n",
       "\n",
       "    .dataframe tbody tr th {\n",
       "        vertical-align: top;\n",
       "    }\n",
       "\n",
       "    .dataframe thead th {\n",
       "        text-align: right;\n",
       "    }\n",
       "</style>\n",
       "<table border=\"1\" class=\"dataframe\">\n",
       "  <thead>\n",
       "    <tr style=\"text-align: right;\">\n",
       "      <th></th>\n",
       "      <th>symbol</th>\n",
       "      <th>name</th>\n",
       "      <th>date</th>\n",
       "      <th>Month</th>\n",
       "      <th>Year</th>\n",
       "      <th>open</th>\n",
       "      <th>high</th>\n",
       "      <th>low</th>\n",
       "      <th>close</th>\n",
       "      <th>ohlc_avg</th>\n",
       "      <th>...</th>\n",
       "      <th>delta_ohlc_monthly</th>\n",
       "      <th>volume</th>\n",
       "      <th>market</th>\n",
       "      <th>close_ratio</th>\n",
       "      <th>spread</th>\n",
       "      <th>moon_dist_au</th>\n",
       "      <th>moon_declination</th>\n",
       "      <th>moon_brightness</th>\n",
       "      <th>moon_illumination_perc</th>\n",
       "      <th>moon_constellation</th>\n",
       "    </tr>\n",
       "  </thead>\n",
       "  <tbody>\n",
       "    <tr>\n",
       "      <th>0</th>\n",
       "      <td>BTC</td>\n",
       "      <td>Bitcoin</td>\n",
       "      <td>4/28/2013</td>\n",
       "      <td>4</td>\n",
       "      <td>2013</td>\n",
       "      <td>135.30</td>\n",
       "      <td>135.98</td>\n",
       "      <td>132.10</td>\n",
       "      <td>134.21</td>\n",
       "      <td>134.3975</td>\n",
       "      <td>...</td>\n",
       "      <td>-4.105833</td>\n",
       "      <td>0</td>\n",
       "      <td>1.500520e+09</td>\n",
       "      <td>0.5438</td>\n",
       "      <td>3.88</td>\n",
       "      <td>0.002439</td>\n",
       "      <td>-20.14462</td>\n",
       "      <td>4.11</td>\n",
       "      <td>93.043</td>\n",
       "      <td>Oph</td>\n",
       "    </tr>\n",
       "    <tr>\n",
       "      <th>1</th>\n",
       "      <td>BTC</td>\n",
       "      <td>Bitcoin</td>\n",
       "      <td>4/29/2013</td>\n",
       "      <td>4</td>\n",
       "      <td>2013</td>\n",
       "      <td>134.44</td>\n",
       "      <td>147.49</td>\n",
       "      <td>134.00</td>\n",
       "      <td>144.54</td>\n",
       "      <td>140.1175</td>\n",
       "      <td>...</td>\n",
       "      <td>1.614167</td>\n",
       "      <td>0</td>\n",
       "      <td>1.491160e+09</td>\n",
       "      <td>0.7813</td>\n",
       "      <td>13.49</td>\n",
       "      <td>0.002452</td>\n",
       "      <td>-20.36451</td>\n",
       "      <td>4.39</td>\n",
       "      <td>85.813</td>\n",
       "      <td>Oph</td>\n",
       "    </tr>\n",
       "    <tr>\n",
       "      <th>2</th>\n",
       "      <td>BTC</td>\n",
       "      <td>Bitcoin</td>\n",
       "      <td>4/30/2013</td>\n",
       "      <td>4</td>\n",
       "      <td>2013</td>\n",
       "      <td>144.00</td>\n",
       "      <td>146.93</td>\n",
       "      <td>134.05</td>\n",
       "      <td>139.00</td>\n",
       "      <td>140.9950</td>\n",
       "      <td>...</td>\n",
       "      <td>2.491667</td>\n",
       "      <td>0</td>\n",
       "      <td>1.597780e+09</td>\n",
       "      <td>0.3843</td>\n",
       "      <td>12.88</td>\n",
       "      <td>0.002473</td>\n",
       "      <td>-19.37449</td>\n",
       "      <td>4.65</td>\n",
       "      <td>76.687</td>\n",
       "      <td>Sgr</td>\n",
       "    </tr>\n",
       "    <tr>\n",
       "      <th>3</th>\n",
       "      <td>BTC</td>\n",
       "      <td>Bitcoin</td>\n",
       "      <td>5/1/2013</td>\n",
       "      <td>5</td>\n",
       "      <td>2013</td>\n",
       "      <td>139.00</td>\n",
       "      <td>139.89</td>\n",
       "      <td>107.72</td>\n",
       "      <td>116.99</td>\n",
       "      <td>125.9000</td>\n",
       "      <td>...</td>\n",
       "      <td>6.277984</td>\n",
       "      <td>0</td>\n",
       "      <td>1.542820e+09</td>\n",
       "      <td>0.2882</td>\n",
       "      <td>32.17</td>\n",
       "      <td>0.002498</td>\n",
       "      <td>-17.26432</td>\n",
       "      <td>4.89</td>\n",
       "      <td>66.296</td>\n",
       "      <td>Sgr</td>\n",
       "    </tr>\n",
       "    <tr>\n",
       "      <th>4</th>\n",
       "      <td>BTC</td>\n",
       "      <td>Bitcoin</td>\n",
       "      <td>5/2/2013</td>\n",
       "      <td>5</td>\n",
       "      <td>2013</td>\n",
       "      <td>116.38</td>\n",
       "      <td>125.60</td>\n",
       "      <td>92.28</td>\n",
       "      <td>105.21</td>\n",
       "      <td>109.8675</td>\n",
       "      <td>...</td>\n",
       "      <td>-9.754516</td>\n",
       "      <td>0</td>\n",
       "      <td>1.292190e+09</td>\n",
       "      <td>0.3881</td>\n",
       "      <td>33.32</td>\n",
       "      <td>0.002525</td>\n",
       "      <td>-14.18093</td>\n",
       "      <td>5.12</td>\n",
       "      <td>55.287</td>\n",
       "      <td>Cap</td>\n",
       "    </tr>\n",
       "  </tbody>\n",
       "</table>\n",
       "<p>5 rows × 21 columns</p>\n",
       "</div>"
      ],
      "text/plain": [
       "  symbol     name       date  Month  Year    open    high     low   close  \\\n",
       "0    BTC  Bitcoin  4/28/2013      4  2013  135.30  135.98  132.10  134.21   \n",
       "1    BTC  Bitcoin  4/29/2013      4  2013  134.44  147.49  134.00  144.54   \n",
       "2    BTC  Bitcoin  4/30/2013      4  2013  144.00  146.93  134.05  139.00   \n",
       "3    BTC  Bitcoin   5/1/2013      5  2013  139.00  139.89  107.72  116.99   \n",
       "4    BTC  Bitcoin   5/2/2013      5  2013  116.38  125.60   92.28  105.21   \n",
       "\n",
       "   ohlc_avg         ...          delta_ohlc_monthly  volume        market  \\\n",
       "0  134.3975         ...                   -4.105833       0  1.500520e+09   \n",
       "1  140.1175         ...                    1.614167       0  1.491160e+09   \n",
       "2  140.9950         ...                    2.491667       0  1.597780e+09   \n",
       "3  125.9000         ...                    6.277984       0  1.542820e+09   \n",
       "4  109.8675         ...                   -9.754516       0  1.292190e+09   \n",
       "\n",
       "   close_ratio spread  moon_dist_au  moon_declination  moon_brightness  \\\n",
       "0       0.5438   3.88      0.002439         -20.14462             4.11   \n",
       "1       0.7813  13.49      0.002452         -20.36451             4.39   \n",
       "2       0.3843  12.88      0.002473         -19.37449             4.65   \n",
       "3       0.2882  32.17      0.002498         -17.26432             4.89   \n",
       "4       0.3881  33.32      0.002525         -14.18093             5.12   \n",
       "\n",
       "   moon_illumination_perc  moon_constellation  \n",
       "0                  93.043                 Oph  \n",
       "1                  85.813                 Oph  \n",
       "2                  76.687                 Sgr  \n",
       "3                  66.296                 Sgr  \n",
       "4                  55.287                 Cap  \n",
       "\n",
       "[5 rows x 21 columns]"
      ]
     },
     "execution_count": 111,
     "metadata": {},
     "output_type": "execute_result"
    }
   ],
   "source": [
    "df.head() "
   ]
  },
  {
   "cell_type": "code",
   "execution_count": 178,
   "metadata": {},
   "outputs": [
    {
     "data": {
      "text/plain": [
       "1398"
      ]
     },
     "execution_count": 178,
     "metadata": {},
     "output_type": "execute_result"
    }
   ],
   "source": [
    "df[\"name\"].nunique()"
   ]
  },
  {
   "cell_type": "markdown",
   "metadata": {},
   "source": [
    "# checking and handling missing values"
   ]
  },
  {
   "cell_type": "code",
   "execution_count": 113,
   "metadata": {},
   "outputs": [
    {
     "data": {
      "text/plain": [
       "True"
      ]
     },
     "execution_count": 113,
     "metadata": {},
     "output_type": "execute_result"
    }
   ],
   "source": [
    "df.isnull().values.any()"
   ]
  },
  {
   "cell_type": "code",
   "execution_count": 114,
   "metadata": {},
   "outputs": [
    {
     "data": {
      "text/plain": [
       "(644847, 21)"
      ]
     },
     "execution_count": 114,
     "metadata": {},
     "output_type": "execute_result"
    }
   ],
   "source": [
    "df.dropna(inplace=True)\n",
    "df.shape"
   ]
  },
  {
   "cell_type": "code",
   "execution_count": 131,
   "metadata": {},
   "outputs": [
    {
     "data": {
      "text/plain": [
       "False"
      ]
     },
     "execution_count": 131,
     "metadata": {},
     "output_type": "execute_result"
    }
   ],
   "source": [
    "df.isnull().values.any()"
   ]
  },
  {
   "cell_type": "markdown",
   "metadata": {},
   "source": [
    "# Dropped unimportant feature"
   ]
  },
  {
   "cell_type": "code",
   "execution_count": 115,
   "metadata": {},
   "outputs": [
    {
     "data": {
      "text/plain": [
       "(644847, 19)"
      ]
     },
     "execution_count": 115,
     "metadata": {},
     "output_type": "execute_result"
    }
   ],
   "source": [
    "df2=df.drop([\"name\",\"symbol\"],axis=1)\n",
    "df2.head()\n",
    "df2.shape"
   ]
  },
  {
   "cell_type": "code",
   "execution_count": 116,
   "metadata": {},
   "outputs": [
    {
     "name": "stdout",
     "output_type": "stream",
     "text": [
      "<class 'pandas.core.frame.DataFrame'>\n",
      "Int64Index: 644847 entries, 0 to 659372\n",
      "Data columns (total 19 columns):\n",
      "date                      644847 non-null object\n",
      "Month                     644847 non-null int64\n",
      "Year                      644847 non-null int64\n",
      "open                      644847 non-null float64\n",
      "high                      644847 non-null float64\n",
      "low                       644847 non-null float64\n",
      "close                     644847 non-null float64\n",
      "ohlc_avg                  644847 non-null float64\n",
      "monthly_avg               644847 non-null float64\n",
      "delta_ohlc_monthly        644847 non-null float64\n",
      "volume                    644847 non-null int64\n",
      "market                    644847 non-null float64\n",
      "close_ratio               644847 non-null object\n",
      "spread                    644847 non-null float64\n",
      "moon_dist_au              644847 non-null float64\n",
      "moon_declination          644847 non-null float64\n",
      "moon_brightness           644847 non-null float64\n",
      "moon_illumination_perc    644847 non-null float64\n",
      "moon_constellation        644847 non-null object\n",
      "dtypes: float64(13), int64(3), object(3)\n",
      "memory usage: 98.4+ MB\n"
     ]
    }
   ],
   "source": [
    "df2.info()"
   ]
  },
  {
   "cell_type": "markdown",
   "metadata": {},
   "source": [
    "From above we can see we have float,int and object datatypes. "
   ]
  },
  {
   "cell_type": "markdown",
   "metadata": {},
   "source": [
    "# preprocessing of continuous valued feature"
   ]
  },
  {
   "cell_type": "code",
   "execution_count": 117,
   "metadata": {},
   "outputs": [
    {
     "data": {
      "text/plain": [
       "array([[<matplotlib.axes._subplots.AxesSubplot object at 0x1add839668>,\n",
       "        <matplotlib.axes._subplots.AxesSubplot object at 0x1a64965898>,\n",
       "        <matplotlib.axes._subplots.AxesSubplot object at 0x1a64983f28>,\n",
       "        <matplotlib.axes._subplots.AxesSubplot object at 0x11b22a5f8>],\n",
       "       [<matplotlib.axes._subplots.AxesSubplot object at 0x1a6467ec88>,\n",
       "        <matplotlib.axes._subplots.AxesSubplot object at 0x1a6467ecc0>,\n",
       "        <matplotlib.axes._subplots.AxesSubplot object at 0x1a647d49e8>,\n",
       "        <matplotlib.axes._subplots.AxesSubplot object at 0x1a648660b8>],\n",
       "       [<matplotlib.axes._subplots.AxesSubplot object at 0x1a6488c748>,\n",
       "        <matplotlib.axes._subplots.AxesSubplot object at 0x1a648b4dd8>,\n",
       "        <matplotlib.axes._subplots.AxesSubplot object at 0x1a649a64a8>,\n",
       "        <matplotlib.axes._subplots.AxesSubplot object at 0x1a649ccb38>],\n",
       "       [<matplotlib.axes._subplots.AxesSubplot object at 0x1a64a7c208>,\n",
       "        <matplotlib.axes._subplots.AxesSubplot object at 0x1a64aa6898>,\n",
       "        <matplotlib.axes._subplots.AxesSubplot object at 0x1a64c4af28>,\n",
       "        <matplotlib.axes._subplots.AxesSubplot object at 0x1a64c7a5f8>]],\n",
       "      dtype=object)"
      ]
     },
     "execution_count": 117,
     "metadata": {},
     "output_type": "execute_result"
    },
    {
     "data": {
      "image/png": "[encoded data removed]",
      "text/plain": [
       "<Figure size 1296x1296 with 16 Axes>"
      ]
     },
     "metadata": {},
     "output_type": "display_data"
    }
   ],
   "source": [
    "df2[df2.dtypes[(df2.dtypes==\"float64\")|(df2.dtypes==\"int64\")].index.values].hist(figsize=[18,18])"
   ]
  },
  {
   "cell_type": "code",
   "execution_count": 118,
   "metadata": {},
   "outputs": [],
   "source": [
    "df1=df2[df2.dtypes[(df2.dtypes==\"float64\")|(df2.dtypes==\"int64\")].index.values]"
   ]
  },
  {
   "cell_type": "code",
   "execution_count": 119,
   "metadata": {},
   "outputs": [
    {
     "data": {
      "text/plain": [
       "(644847, 16)"
      ]
     },
     "execution_count": 119,
     "metadata": {},
     "output_type": "execute_result"
    }
   ],
   "source": [
    "df1.shape"
   ]
  },
  {
   "cell_type": "markdown",
   "metadata": {},
   "source": [
    "# 1) Feature scaling: setting ranges between 0-1"
   ]
  },
  {
   "cell_type": "code",
   "execution_count": 120,
   "metadata": {
    "scrolled": true
   },
   "outputs": [
    {
     "data": {
      "text/html": [
       "<div>\n",
       "<style scoped>\n",
       "    .dataframe tbody tr th:only-of-type {\n",
       "        vertical-align: middle;\n",
       "    }\n",
       "\n",
       "    .dataframe tbody tr th {\n",
       "        vertical-align: top;\n",
       "    }\n",
       "\n",
       "    .dataframe thead th {\n",
       "        text-align: right;\n",
       "    }\n",
       "</style>\n",
       "<table border=\"1\" class=\"dataframe\">\n",
       "  <thead>\n",
       "    <tr style=\"text-align: right;\">\n",
       "      <th></th>\n",
       "      <th>0</th>\n",
       "      <th>1</th>\n",
       "      <th>2</th>\n",
       "      <th>3</th>\n",
       "      <th>4</th>\n",
       "      <th>5</th>\n",
       "      <th>6</th>\n",
       "      <th>7</th>\n",
       "      <th>8</th>\n",
       "      <th>9</th>\n",
       "      <th>10</th>\n",
       "      <th>11</th>\n",
       "      <th>12</th>\n",
       "      <th>13</th>\n",
       "      <th>14</th>\n",
       "      <th>15</th>\n",
       "    </tr>\n",
       "  </thead>\n",
       "  <tbody>\n",
       "    <tr>\n",
       "      <th>0</th>\n",
       "      <td>0.272727</td>\n",
       "      <td>0.0</td>\n",
       "      <td>0.000059</td>\n",
       "      <td>0.000046</td>\n",
       "      <td>0.000065</td>\n",
       "      <td>0.000058</td>\n",
       "      <td>0.000056</td>\n",
       "      <td>0.008127</td>\n",
       "      <td>0.002182</td>\n",
       "      <td>0.0</td>\n",
       "      <td>0.004603</td>\n",
       "      <td>0.000002</td>\n",
       "      <td>0.194973</td>\n",
       "      <td>0.010011</td>\n",
       "      <td>0.570632</td>\n",
       "      <td>0.930464</td>\n",
       "    </tr>\n",
       "    <tr>\n",
       "      <th>1</th>\n",
       "      <td>0.272727</td>\n",
       "      <td>0.0</td>\n",
       "      <td>0.000058</td>\n",
       "      <td>0.000050</td>\n",
       "      <td>0.000066</td>\n",
       "      <td>0.000063</td>\n",
       "      <td>0.000059</td>\n",
       "      <td>0.008127</td>\n",
       "      <td>0.002185</td>\n",
       "      <td>0.0</td>\n",
       "      <td>0.004574</td>\n",
       "      <td>0.000008</td>\n",
       "      <td>0.230840</td>\n",
       "      <td>0.004499</td>\n",
       "      <td>0.622677</td>\n",
       "      <td>0.858159</td>\n",
       "    </tr>\n",
       "    <tr>\n",
       "      <th>2</th>\n",
       "      <td>0.272727</td>\n",
       "      <td>0.0</td>\n",
       "      <td>0.000063</td>\n",
       "      <td>0.000050</td>\n",
       "      <td>0.000066</td>\n",
       "      <td>0.000060</td>\n",
       "      <td>0.000059</td>\n",
       "      <td>0.008127</td>\n",
       "      <td>0.002185</td>\n",
       "      <td>0.0</td>\n",
       "      <td>0.004901</td>\n",
       "      <td>0.000007</td>\n",
       "      <td>0.284501</td>\n",
       "      <td>0.029318</td>\n",
       "      <td>0.671004</td>\n",
       "      <td>0.766891</td>\n",
       "    </tr>\n",
       "    <tr>\n",
       "      <th>3</th>\n",
       "      <td>0.363636</td>\n",
       "      <td>0.0</td>\n",
       "      <td>0.000060</td>\n",
       "      <td>0.000048</td>\n",
       "      <td>0.000053</td>\n",
       "      <td>0.000051</td>\n",
       "      <td>0.000053</td>\n",
       "      <td>0.007019</td>\n",
       "      <td>0.002187</td>\n",
       "      <td>0.0</td>\n",
       "      <td>0.004733</td>\n",
       "      <td>0.000018</td>\n",
       "      <td>0.349920</td>\n",
       "      <td>0.082219</td>\n",
       "      <td>0.715613</td>\n",
       "      <td>0.662973</td>\n",
       "    </tr>\n",
       "    <tr>\n",
       "      <th>4</th>\n",
       "      <td>0.363636</td>\n",
       "      <td>0.0</td>\n",
       "      <td>0.000051</td>\n",
       "      <td>0.000043</td>\n",
       "      <td>0.000045</td>\n",
       "      <td>0.000046</td>\n",
       "      <td>0.000046</td>\n",
       "      <td>0.007019</td>\n",
       "      <td>0.002180</td>\n",
       "      <td>0.0</td>\n",
       "      <td>0.003964</td>\n",
       "      <td>0.000019</td>\n",
       "      <td>0.421046</td>\n",
       "      <td>0.159519</td>\n",
       "      <td>0.758364</td>\n",
       "      <td>0.552874</td>\n",
       "    </tr>\n",
       "  </tbody>\n",
       "</table>\n",
       "</div>"
      ],
      "text/plain": [
       "         0    1         2         3         4         5         6         7   \\\n",
       "0  0.272727  0.0  0.000059  0.000046  0.000065  0.000058  0.000056  0.008127   \n",
       "1  0.272727  0.0  0.000058  0.000050  0.000066  0.000063  0.000059  0.008127   \n",
       "2  0.272727  0.0  0.000063  0.000050  0.000066  0.000060  0.000059  0.008127   \n",
       "3  0.363636  0.0  0.000060  0.000048  0.000053  0.000051  0.000053  0.007019   \n",
       "4  0.363636  0.0  0.000051  0.000043  0.000045  0.000046  0.000046  0.007019   \n",
       "\n",
       "         8    9         10        11        12        13        14        15  \n",
       "0  0.002182  0.0  0.004603  0.000002  0.194973  0.010011  0.570632  0.930464  \n",
       "1  0.002185  0.0  0.004574  0.000008  0.230840  0.004499  0.622677  0.858159  \n",
       "2  0.002185  0.0  0.004901  0.000007  0.284501  0.029318  0.671004  0.766891  \n",
       "3  0.002187  0.0  0.004733  0.000018  0.349920  0.082219  0.715613  0.662973  \n",
       "4  0.002180  0.0  0.003964  0.000019  0.421046  0.159519  0.758364  0.552874  "
      ]
     },
     "execution_count": 120,
     "metadata": {},
     "output_type": "execute_result"
    }
   ],
   "source": [
    "from sklearn.preprocessing import MinMaxScaler\n",
    "min_max=MinMaxScaler()\n",
    "df_minmax=pd.DataFrame(min_max.fit_transform(df1))\n",
    "df_minmax.head()"
   ]
  },
  {
   "cell_type": "markdown",
   "metadata": {},
   "source": [
    "# Feature standardization: make it in standard normal form (mean=0, standard dev=1)"
   ]
  },
  {
   "cell_type": "code",
   "execution_count": 127,
   "metadata": {
    "scrolled": true
   },
   "outputs": [
    {
     "data": {
      "text/plain": [
       "(644847, 16)"
      ]
     },
     "execution_count": 127,
     "metadata": {},
     "output_type": "execute_result"
    }
   ],
   "source": [
    "# Standardizing the train and test data\n",
    "from sklearn.preprocessing import scale\n",
    "\n",
    "df_scale =pd.DataFrame( scale(df_minmax))\n",
    "df_scale.shape"
   ]
  },
  {
   "cell_type": "markdown",
   "metadata": {},
   "source": [
    "# label encoding to handle string valued feature "
   ]
  },
  {
   "cell_type": "code",
   "execution_count": 150,
   "metadata": {},
   "outputs": [],
   "source": [
    "data = df2[[\"date\",\"moon_constellation\"]]"
   ]
  },
  {
   "cell_type": "code",
   "execution_count": 151,
   "metadata": {},
   "outputs": [
    {
     "data": {
      "text/plain": [
       "(644847, 2)"
      ]
     },
     "execution_count": 151,
     "metadata": {},
     "output_type": "execute_result"
    }
   ],
   "source": [
    "data.shape"
   ]
  },
  {
   "cell_type": "code",
   "execution_count": 161,
   "metadata": {},
   "outputs": [
    {
     "data": {
      "text/html": [
       "<div>\n",
       "<style scoped>\n",
       "    .dataframe tbody tr th:only-of-type {\n",
       "        vertical-align: middle;\n",
       "    }\n",
       "\n",
       "    .dataframe tbody tr th {\n",
       "        vertical-align: top;\n",
       "    }\n",
       "\n",
       "    .dataframe thead th {\n",
       "        text-align: right;\n",
       "    }\n",
       "</style>\n",
       "<table border=\"1\" class=\"dataframe\">\n",
       "  <thead>\n",
       "    <tr style=\"text-align: right;\">\n",
       "      <th></th>\n",
       "      <th>date</th>\n",
       "      <th>moon_constellation</th>\n",
       "    </tr>\n",
       "  </thead>\n",
       "  <tbody>\n",
       "    <tr>\n",
       "      <th>0</th>\n",
       "      <td>911</td>\n",
       "      <td>8</td>\n",
       "    </tr>\n",
       "    <tr>\n",
       "      <th>1</th>\n",
       "      <td>916</td>\n",
       "      <td>8</td>\n",
       "    </tr>\n",
       "    <tr>\n",
       "      <th>2</th>\n",
       "      <td>925</td>\n",
       "      <td>13</td>\n",
       "    </tr>\n",
       "    <tr>\n",
       "      <th>3</th>\n",
       "      <td>954</td>\n",
       "      <td>13</td>\n",
       "    </tr>\n",
       "    <tr>\n",
       "      <th>4</th>\n",
       "      <td>1009</td>\n",
       "      <td>2</td>\n",
       "    </tr>\n",
       "  </tbody>\n",
       "</table>\n",
       "</div>"
      ],
      "text/plain": [
       "   date  moon_constellation\n",
       "0   911                   8\n",
       "1   916                   8\n",
       "2   925                  13\n",
       "3   954                  13\n",
       "4  1009                   2"
      ]
     },
     "execution_count": 161,
     "metadata": {},
     "output_type": "execute_result"
    }
   ],
   "source": [
    "from collections import defaultdict\n",
    "\n",
    "d = defaultdict(LabelEncoder)\n",
    "\n",
    "df_fit = data.apply(lambda each: d[each.name].fit_transform(each))\n",
    "\n",
    "df_fit.head() "
   ]
  },
  {
   "cell_type": "code",
   "execution_count": 170,
   "metadata": {},
   "outputs": [],
   "source": [
    "df_scale[\"date\"] = df_fit[\"date\"]\n",
    "df_scale[\"moon_constellation\"] = df_fit[\"moon_constellation\"]"
   ]
  },
  {
   "cell_type": "code",
   "execution_count": 172,
   "metadata": {},
   "outputs": [
    {
     "name": "stdout",
     "output_type": "stream",
     "text": [
      "<class 'pandas.core.frame.DataFrame'>\n",
      "RangeIndex: 644847 entries, 0 to 644846\n",
      "Data columns (total 18 columns):\n",
      "0                     644847 non-null float64\n",
      "1                     644847 non-null float64\n",
      "2                     644847 non-null float64\n",
      "3                     644847 non-null float64\n",
      "4                     644847 non-null float64\n",
      "5                     644847 non-null float64\n",
      "6                     644847 non-null float64\n",
      "7                     644847 non-null float64\n",
      "8                     644847 non-null float64\n",
      "9                     644847 non-null float64\n",
      "10                    644847 non-null float64\n",
      "11                    644847 non-null float64\n",
      "12                    644847 non-null float64\n",
      "13                    644847 non-null float64\n",
      "14                    644847 non-null float64\n",
      "15                    644847 non-null float64\n",
      "date                  630786 non-null float64\n",
      "moon_constellation    630786 non-null float64\n",
      "dtypes: float64(18)\n",
      "memory usage: 88.6 MB\n"
     ]
    }
   ],
   "source": [
    "df_scale.info()"
   ]
  },
  {
   "cell_type": "code",
   "execution_count": 177,
   "metadata": {},
   "outputs": [],
   "source": [
    "df_scale.to_csv(\"Final_data.csv\")"
   ]
  },
  {
   "cell_type": "code",
   "execution_count": null,
   "metadata": {},
   "outputs": [],
   "source": []
  },
  {
   "cell_type": "code",
   "execution_count": null,
   "metadata": {},
   "outputs": [],
   "source": []
  }
 ],
 "metadata": {
  "kernelspec": {
   "display_name": "Python 3",
   "language": "python",
   "name": "python3"
  },
  "language_info": {
   "codemirror_mode": {
    "name": "ipython",
    "version": 3
   },
   "file_extension": ".py",
   "mimetype": "text/x-python",
   "name": "python",
   "nbconvert_exporter": "python",
   "pygments_lexer": "ipython3",
   "version": "3.6.5"
  }
 },
 "nbformat": 4,
 "nbformat_minor": 2
}
